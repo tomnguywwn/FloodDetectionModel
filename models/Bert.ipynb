{
 "cells": [
  {
   "cell_type": "code",
   "execution_count": 1,
   "id": "49f9a515-1b37-4322-91a7-aeff8589f2e7",
   "metadata": {
    "tags": []
   },
   "outputs": [
    {
     "name": "stdout",
     "output_type": "stream",
     "text": [
      "WARNING:tensorflow:From C:\\Users\\minhd\\anaconda3\\Lib\\site-packages\\tf_keras\\src\\losses.py:2976: The name tf.losses.sparse_softmax_cross_entropy is deprecated. Please use tf.compat.v1.losses.sparse_softmax_cross_entropy instead.\n",
      "\n"
     ]
    }
   ],
   "source": [
    "import pandas as pd\n",
    "import tensorflow as tf\n",
    "from transformers import BertTokenizer, TFBertForSequenceClassification\n",
    "from tensorflow.keras.optimizers import Adam\n",
    "from tensorflow.keras.losses import SparseCategoricalCrossentropy\n",
    "from tensorflow.keras.metrics import SparseCategoricalAccuracy\n",
    "from sklearn.model_selection import train_test_split"
   ]
  },
  {
   "cell_type": "code",
   "execution_count": 2,
   "id": "4912ea28-f8d4-4c84-b1cd-94bd4538b40f",
   "metadata": {
    "tags": []
   },
   "outputs": [
    {
     "data": {
      "text/html": [
       "<div>\n",
       "<style scoped>\n",
       "    .dataframe tbody tr th:only-of-type {\n",
       "        vertical-align: middle;\n",
       "    }\n",
       "\n",
       "    .dataframe tbody tr th {\n",
       "        vertical-align: top;\n",
       "    }\n",
       "\n",
       "    .dataframe thead th {\n",
       "        text-align: right;\n",
       "    }\n",
       "</style>\n",
       "<table border=\"1\" class=\"dataframe\">\n",
       "  <thead>\n",
       "    <tr style=\"text-align: right;\">\n",
       "      <th></th>\n",
       "      <th>description</th>\n",
       "      <th>user_tags</th>\n",
       "      <th>title</th>\n",
       "      <th>license_name</th>\n",
       "      <th>user_nsid</th>\n",
       "      <th>image_extension_original</th>\n",
       "      <th>longitude</th>\n",
       "      <th>image_id</th>\n",
       "      <th>license_url</th>\n",
       "      <th>date_uploaded</th>\n",
       "      <th>date_taken</th>\n",
       "      <th>latitude</th>\n",
       "      <th>image_url</th>\n",
       "      <th>user_nickname</th>\n",
       "      <th>capture_device</th>\n",
       "    </tr>\n",
       "  </thead>\n",
       "  <tbody>\n",
       "    <tr>\n",
       "      <th>0</th>\n",
       "      <td>None</td>\n",
       "      <td>[2009 road trip, obrero road trip]</td>\n",
       "      <td>Biltmore Estate</td>\n",
       "      <td>Attribution-NonCommercial-NoDerivs License</td>\n",
       "      <td>95156977@N00</td>\n",
       "      <td>jpg</td>\n",
       "      <td>NaN</td>\n",
       "      <td>3519864665</td>\n",
       "      <td>http://creativecommons.org/licenses/by-nc-nd/2.0/</td>\n",
       "      <td>1242004112</td>\n",
       "      <td>2009-05-10 08:27:33.0</td>\n",
       "      <td>NaN</td>\n",
       "      <td>http://www.flickr.com/photos/95156977@N00/3519...</td>\n",
       "      <td>5 Flip-Flops (Earl)</td>\n",
       "      <td>Canon EOS DIGITAL REBEL XT</td>\n",
       "    </tr>\n",
       "    <tr>\n",
       "      <th>1</th>\n",
       "      <td>None</td>\n",
       "      <td>[daulatabad, daulatabad fort, ellora, road trip]</td>\n",
       "      <td>Chand Minar</td>\n",
       "      <td>Attribution-ShareAlike License</td>\n",
       "      <td>24574470@N00</td>\n",
       "      <td>jpg</td>\n",
       "      <td>75.200386</td>\n",
       "      <td>4896119055</td>\n",
       "      <td>http://creativecommons.org/licenses/by-sa/2.0/</td>\n",
       "      <td>1281931224</td>\n",
       "      <td>2010-08-14 13:35:10.0</td>\n",
       "      <td>19.939383</td>\n",
       "      <td>http://www.flickr.com/photos/24574470@N00/4896...</td>\n",
       "      <td>sankarshan</td>\n",
       "      <td>NIKON CORPORATION NIKON D90</td>\n",
       "    </tr>\n",
       "    <tr>\n",
       "      <th>2</th>\n",
       "      <td>After the flood, the boarded up stores bear up...</td>\n",
       "      <td>[cedarrapids, createsouthroadtrip2009, disaste...</td>\n",
       "      <td>Uplifting Graffiti</td>\n",
       "      <td>Attribution License</td>\n",
       "      <td>73451168@N00</td>\n",
       "      <td>jpg</td>\n",
       "      <td>NaN</td>\n",
       "      <td>3468473862</td>\n",
       "      <td>http://creativecommons.org/licenses/by/2.0/</td>\n",
       "      <td>1240493762</td>\n",
       "      <td>2009-04-21 18:07:56.0</td>\n",
       "      <td>NaN</td>\n",
       "      <td>http://www.flickr.com/photos/73451168@N00/3468...</td>\n",
       "      <td>J Wynia</td>\n",
       "      <td>Panasonic DMC-TZ5</td>\n",
       "    </tr>\n",
       "    <tr>\n",
       "      <th>3</th>\n",
       "      <td>None</td>\n",
       "      <td>[cork, enchente, flood, ireland, irlanda]</td>\n",
       "      <td>DSCF6487</td>\n",
       "      <td>Attribution-NonCommercial-NoDerivs License</td>\n",
       "      <td>12947023@N00</td>\n",
       "      <td>jpg</td>\n",
       "      <td>-8.621177</td>\n",
       "      <td>4120853942</td>\n",
       "      <td>http://creativecommons.org/licenses/by-nc-nd/2.0/</td>\n",
       "      <td>1258754762</td>\n",
       "      <td>2009-11-20 15:16:40.0</td>\n",
       "      <td>51.889603</td>\n",
       "      <td>http://www.flickr.com/photos/12947023@N00/4120...</td>\n",
       "      <td>guileite</td>\n",
       "      <td>FUJIFILM FinePix S6000fd</td>\n",
       "    </tr>\n",
       "    <tr>\n",
       "      <th>4</th>\n",
       "      <td>None</td>\n",
       "      <td>[athens georgia, brown, current, flood, mud, r...</td>\n",
       "      <td>Oconoe river - flooded</td>\n",
       "      <td>Attribution License</td>\n",
       "      <td>60704492@N00</td>\n",
       "      <td>jpg</td>\n",
       "      <td>-83.368265</td>\n",
       "      <td>4436083254</td>\n",
       "      <td>http://creativecommons.org/licenses/by/2.0/</td>\n",
       "      <td>1268676971</td>\n",
       "      <td>2010-03-13 15:14:04.0</td>\n",
       "      <td>33.949149</td>\n",
       "      <td>http://www.flickr.com/photos/60704492@N00/4436...</td>\n",
       "      <td>The_Gut</td>\n",
       "      <td>Canon PowerShot SX10 IS</td>\n",
       "    </tr>\n",
       "  </tbody>\n",
       "</table>\n",
       "</div>"
      ],
      "text/plain": [
       "                                         description  \\\n",
       "0                                               None   \n",
       "1                                               None   \n",
       "2  After the flood, the boarded up stores bear up...   \n",
       "3                                               None   \n",
       "4                                               None   \n",
       "\n",
       "                                           user_tags                   title  \\\n",
       "0                 [2009 road trip, obrero road trip]         Biltmore Estate   \n",
       "1   [daulatabad, daulatabad fort, ellora, road trip]             Chand Minar   \n",
       "2  [cedarrapids, createsouthroadtrip2009, disaste...      Uplifting Graffiti   \n",
       "3          [cork, enchente, flood, ireland, irlanda]                DSCF6487   \n",
       "4  [athens georgia, brown, current, flood, mud, r...  Oconoe river - flooded   \n",
       "\n",
       "                                 license_name     user_nsid  \\\n",
       "0  Attribution-NonCommercial-NoDerivs License  95156977@N00   \n",
       "1              Attribution-ShareAlike License  24574470@N00   \n",
       "2                         Attribution License  73451168@N00   \n",
       "3  Attribution-NonCommercial-NoDerivs License  12947023@N00   \n",
       "4                         Attribution License  60704492@N00   \n",
       "\n",
       "  image_extension_original  longitude    image_id  \\\n",
       "0                      jpg        NaN  3519864665   \n",
       "1                      jpg  75.200386  4896119055   \n",
       "2                      jpg        NaN  3468473862   \n",
       "3                      jpg  -8.621177  4120853942   \n",
       "4                      jpg -83.368265  4436083254   \n",
       "\n",
       "                                         license_url date_uploaded  \\\n",
       "0  http://creativecommons.org/licenses/by-nc-nd/2.0/    1242004112   \n",
       "1     http://creativecommons.org/licenses/by-sa/2.0/    1281931224   \n",
       "2        http://creativecommons.org/licenses/by/2.0/    1240493762   \n",
       "3  http://creativecommons.org/licenses/by-nc-nd/2.0/    1258754762   \n",
       "4        http://creativecommons.org/licenses/by/2.0/    1268676971   \n",
       "\n",
       "              date_taken   latitude  \\\n",
       "0  2009-05-10 08:27:33.0        NaN   \n",
       "1  2010-08-14 13:35:10.0  19.939383   \n",
       "2  2009-04-21 18:07:56.0        NaN   \n",
       "3  2009-11-20 15:16:40.0  51.889603   \n",
       "4  2010-03-13 15:14:04.0  33.949149   \n",
       "\n",
       "                                           image_url        user_nickname  \\\n",
       "0  http://www.flickr.com/photos/95156977@N00/3519...  5 Flip-Flops (Earl)   \n",
       "1  http://www.flickr.com/photos/24574470@N00/4896...           sankarshan   \n",
       "2  http://www.flickr.com/photos/73451168@N00/3468...              J Wynia   \n",
       "3  http://www.flickr.com/photos/12947023@N00/4120...             guileite   \n",
       "4  http://www.flickr.com/photos/60704492@N00/4436...              The_Gut   \n",
       "\n",
       "                capture_device  \n",
       "0   Canon EOS DIGITAL REBEL XT  \n",
       "1  NIKON CORPORATION NIKON D90  \n",
       "2            Panasonic DMC-TZ5  \n",
       "3     FUJIFILM FinePix S6000fd  \n",
       "4      Canon PowerShot SX10 IS  "
      ]
     },
     "execution_count": 2,
     "metadata": {},
     "output_type": "execute_result"
    }
   ],
   "source": [
    "import pandas as pd\n",
    "\n",
    "# Đọc trực tiếp file JSON thành DataFrame\n",
    "df = pd.read_json('devset_images_metadata.json')\n",
    "\n",
    "# Nếu cần chuyển đổi từ cột chứa danh sách các đối tượng thành các cột DataFrame\n",
    "df = pd.json_normalize(df['images'])\n",
    "\n",
    "# Hiển thị DataFrame\n",
    "df.head()\n"
   ]
  },
  {
   "cell_type": "code",
   "execution_count": 3,
   "id": "de30408a-77e0-4a98-b997-627ed9a95043",
   "metadata": {
    "tags": []
   },
   "outputs": [
    {
     "data": {
      "text/html": [
       "<div>\n",
       "<style scoped>\n",
       "    .dataframe tbody tr th:only-of-type {\n",
       "        vertical-align: middle;\n",
       "    }\n",
       "\n",
       "    .dataframe tbody tr th {\n",
       "        vertical-align: top;\n",
       "    }\n",
       "\n",
       "    .dataframe thead th {\n",
       "        text-align: right;\n",
       "    }\n",
       "</style>\n",
       "<table border=\"1\" class=\"dataframe\">\n",
       "  <thead>\n",
       "    <tr style=\"text-align: right;\">\n",
       "      <th></th>\n",
       "      <th>id</th>\n",
       "      <th>label</th>\n",
       "    </tr>\n",
       "  </thead>\n",
       "  <tbody>\n",
       "    <tr>\n",
       "      <th>0</th>\n",
       "      <td>3519864665</td>\n",
       "      <td>0</td>\n",
       "    </tr>\n",
       "    <tr>\n",
       "      <th>1</th>\n",
       "      <td>4896119055</td>\n",
       "      <td>0</td>\n",
       "    </tr>\n",
       "    <tr>\n",
       "      <th>2</th>\n",
       "      <td>3468473862</td>\n",
       "      <td>0</td>\n",
       "    </tr>\n",
       "    <tr>\n",
       "      <th>3</th>\n",
       "      <td>4120853942</td>\n",
       "      <td>0</td>\n",
       "    </tr>\n",
       "    <tr>\n",
       "      <th>4</th>\n",
       "      <td>4436083254</td>\n",
       "      <td>0</td>\n",
       "    </tr>\n",
       "  </tbody>\n",
       "</table>\n",
       "</div>"
      ],
      "text/plain": [
       "           id  label\n",
       "0  3519864665      0\n",
       "1  4896119055      0\n",
       "2  3468473862      0\n",
       "3  4120853942      0\n",
       "4  4436083254      0"
      ]
     },
     "execution_count": 3,
     "metadata": {},
     "output_type": "execute_result"
    }
   ],
   "source": [
    "train_label = pd.read_csv('devset_images_gt.csv')\n",
    "train_label.head()"
   ]
  },
  {
   "cell_type": "code",
   "execution_count": 4,
   "id": "df415d69-0ce0-4a09-bbc8-060844aae77b",
   "metadata": {
    "tags": []
   },
   "outputs": [
    {
     "data": {
      "text/html": [
       "<div>\n",
       "<style scoped>\n",
       "    .dataframe tbody tr th:only-of-type {\n",
       "        vertical-align: middle;\n",
       "    }\n",
       "\n",
       "    .dataframe tbody tr th {\n",
       "        vertical-align: top;\n",
       "    }\n",
       "\n",
       "    .dataframe thead th {\n",
       "        text-align: right;\n",
       "    }\n",
       "</style>\n",
       "<table border=\"1\" class=\"dataframe\">\n",
       "  <thead>\n",
       "    <tr style=\"text-align: right;\">\n",
       "      <th></th>\n",
       "      <th>image_id</th>\n",
       "      <th>train_y</th>\n",
       "    </tr>\n",
       "  </thead>\n",
       "  <tbody>\n",
       "    <tr>\n",
       "      <th>0</th>\n",
       "      <td>3519864665</td>\n",
       "      <td>0</td>\n",
       "    </tr>\n",
       "    <tr>\n",
       "      <th>1</th>\n",
       "      <td>4896119055</td>\n",
       "      <td>0</td>\n",
       "    </tr>\n",
       "    <tr>\n",
       "      <th>2</th>\n",
       "      <td>3468473862</td>\n",
       "      <td>0</td>\n",
       "    </tr>\n",
       "    <tr>\n",
       "      <th>3</th>\n",
       "      <td>4120853942</td>\n",
       "      <td>0</td>\n",
       "    </tr>\n",
       "    <tr>\n",
       "      <th>4</th>\n",
       "      <td>4436083254</td>\n",
       "      <td>0</td>\n",
       "    </tr>\n",
       "  </tbody>\n",
       "</table>\n",
       "</div>"
      ],
      "text/plain": [
       "     image_id  train_y\n",
       "0  3519864665        0\n",
       "1  4896119055        0\n",
       "2  3468473862        0\n",
       "3  4120853942        0\n",
       "4  4436083254        0"
      ]
     },
     "execution_count": 4,
     "metadata": {},
     "output_type": "execute_result"
    }
   ],
   "source": [
    "train_label.rename(columns = {'id': 'image_id', 'label': 'train_y'}, inplace = True)\n",
    "train_label.head()"
   ]
  },
  {
   "cell_type": "code",
   "execution_count": 5,
   "id": "895de3ac-b8e0-4dd6-b94a-d7080a509ba2",
   "metadata": {
    "tags": []
   },
   "outputs": [
    {
     "data": {
      "text/html": [
       "<div>\n",
       "<style scoped>\n",
       "    .dataframe tbody tr th:only-of-type {\n",
       "        vertical-align: middle;\n",
       "    }\n",
       "\n",
       "    .dataframe tbody tr th {\n",
       "        vertical-align: top;\n",
       "    }\n",
       "\n",
       "    .dataframe thead th {\n",
       "        text-align: right;\n",
       "    }\n",
       "</style>\n",
       "<table border=\"1\" class=\"dataframe\">\n",
       "  <thead>\n",
       "    <tr style=\"text-align: right;\">\n",
       "      <th></th>\n",
       "      <th>description</th>\n",
       "      <th>user_tags</th>\n",
       "      <th>title</th>\n",
       "      <th>license_name</th>\n",
       "      <th>user_nsid</th>\n",
       "      <th>image_extension_original</th>\n",
       "      <th>longitude</th>\n",
       "      <th>image_id</th>\n",
       "      <th>license_url</th>\n",
       "      <th>date_uploaded</th>\n",
       "      <th>date_taken</th>\n",
       "      <th>latitude</th>\n",
       "      <th>image_url</th>\n",
       "      <th>user_nickname</th>\n",
       "      <th>capture_device</th>\n",
       "      <th>image_id</th>\n",
       "      <th>train_y</th>\n",
       "    </tr>\n",
       "  </thead>\n",
       "  <tbody>\n",
       "    <tr>\n",
       "      <th>0</th>\n",
       "      <td>None</td>\n",
       "      <td>[2009 road trip, obrero road trip]</td>\n",
       "      <td>Biltmore Estate</td>\n",
       "      <td>Attribution-NonCommercial-NoDerivs License</td>\n",
       "      <td>95156977@N00</td>\n",
       "      <td>jpg</td>\n",
       "      <td>NaN</td>\n",
       "      <td>3519864665</td>\n",
       "      <td>http://creativecommons.org/licenses/by-nc-nd/2.0/</td>\n",
       "      <td>1242004112</td>\n",
       "      <td>2009-05-10 08:27:33.0</td>\n",
       "      <td>NaN</td>\n",
       "      <td>http://www.flickr.com/photos/95156977@N00/3519...</td>\n",
       "      <td>5 Flip-Flops (Earl)</td>\n",
       "      <td>Canon EOS DIGITAL REBEL XT</td>\n",
       "      <td>3519864665</td>\n",
       "      <td>0</td>\n",
       "    </tr>\n",
       "    <tr>\n",
       "      <th>1</th>\n",
       "      <td>None</td>\n",
       "      <td>[daulatabad, daulatabad fort, ellora, road trip]</td>\n",
       "      <td>Chand Minar</td>\n",
       "      <td>Attribution-ShareAlike License</td>\n",
       "      <td>24574470@N00</td>\n",
       "      <td>jpg</td>\n",
       "      <td>75.200386</td>\n",
       "      <td>4896119055</td>\n",
       "      <td>http://creativecommons.org/licenses/by-sa/2.0/</td>\n",
       "      <td>1281931224</td>\n",
       "      <td>2010-08-14 13:35:10.0</td>\n",
       "      <td>19.939383</td>\n",
       "      <td>http://www.flickr.com/photos/24574470@N00/4896...</td>\n",
       "      <td>sankarshan</td>\n",
       "      <td>NIKON CORPORATION NIKON D90</td>\n",
       "      <td>4896119055</td>\n",
       "      <td>0</td>\n",
       "    </tr>\n",
       "    <tr>\n",
       "      <th>2</th>\n",
       "      <td>After the flood, the boarded up stores bear up...</td>\n",
       "      <td>[cedarrapids, createsouthroadtrip2009, disaste...</td>\n",
       "      <td>Uplifting Graffiti</td>\n",
       "      <td>Attribution License</td>\n",
       "      <td>73451168@N00</td>\n",
       "      <td>jpg</td>\n",
       "      <td>NaN</td>\n",
       "      <td>3468473862</td>\n",
       "      <td>http://creativecommons.org/licenses/by/2.0/</td>\n",
       "      <td>1240493762</td>\n",
       "      <td>2009-04-21 18:07:56.0</td>\n",
       "      <td>NaN</td>\n",
       "      <td>http://www.flickr.com/photos/73451168@N00/3468...</td>\n",
       "      <td>J Wynia</td>\n",
       "      <td>Panasonic DMC-TZ5</td>\n",
       "      <td>3468473862</td>\n",
       "      <td>0</td>\n",
       "    </tr>\n",
       "    <tr>\n",
       "      <th>3</th>\n",
       "      <td>None</td>\n",
       "      <td>[cork, enchente, flood, ireland, irlanda]</td>\n",
       "      <td>DSCF6487</td>\n",
       "      <td>Attribution-NonCommercial-NoDerivs License</td>\n",
       "      <td>12947023@N00</td>\n",
       "      <td>jpg</td>\n",
       "      <td>-8.621177</td>\n",
       "      <td>4120853942</td>\n",
       "      <td>http://creativecommons.org/licenses/by-nc-nd/2.0/</td>\n",
       "      <td>1258754762</td>\n",
       "      <td>2009-11-20 15:16:40.0</td>\n",
       "      <td>51.889603</td>\n",
       "      <td>http://www.flickr.com/photos/12947023@N00/4120...</td>\n",
       "      <td>guileite</td>\n",
       "      <td>FUJIFILM FinePix S6000fd</td>\n",
       "      <td>4120853942</td>\n",
       "      <td>0</td>\n",
       "    </tr>\n",
       "    <tr>\n",
       "      <th>4</th>\n",
       "      <td>None</td>\n",
       "      <td>[athens georgia, brown, current, flood, mud, r...</td>\n",
       "      <td>Oconoe river - flooded</td>\n",
       "      <td>Attribution License</td>\n",
       "      <td>60704492@N00</td>\n",
       "      <td>jpg</td>\n",
       "      <td>-83.368265</td>\n",
       "      <td>4436083254</td>\n",
       "      <td>http://creativecommons.org/licenses/by/2.0/</td>\n",
       "      <td>1268676971</td>\n",
       "      <td>2010-03-13 15:14:04.0</td>\n",
       "      <td>33.949149</td>\n",
       "      <td>http://www.flickr.com/photos/60704492@N00/4436...</td>\n",
       "      <td>The_Gut</td>\n",
       "      <td>Canon PowerShot SX10 IS</td>\n",
       "      <td>4436083254</td>\n",
       "      <td>0</td>\n",
       "    </tr>\n",
       "  </tbody>\n",
       "</table>\n",
       "</div>"
      ],
      "text/plain": [
       "                                         description  \\\n",
       "0                                               None   \n",
       "1                                               None   \n",
       "2  After the flood, the boarded up stores bear up...   \n",
       "3                                               None   \n",
       "4                                               None   \n",
       "\n",
       "                                           user_tags                   title  \\\n",
       "0                 [2009 road trip, obrero road trip]         Biltmore Estate   \n",
       "1   [daulatabad, daulatabad fort, ellora, road trip]             Chand Minar   \n",
       "2  [cedarrapids, createsouthroadtrip2009, disaste...      Uplifting Graffiti   \n",
       "3          [cork, enchente, flood, ireland, irlanda]                DSCF6487   \n",
       "4  [athens georgia, brown, current, flood, mud, r...  Oconoe river - flooded   \n",
       "\n",
       "                                 license_name     user_nsid  \\\n",
       "0  Attribution-NonCommercial-NoDerivs License  95156977@N00   \n",
       "1              Attribution-ShareAlike License  24574470@N00   \n",
       "2                         Attribution License  73451168@N00   \n",
       "3  Attribution-NonCommercial-NoDerivs License  12947023@N00   \n",
       "4                         Attribution License  60704492@N00   \n",
       "\n",
       "  image_extension_original  longitude    image_id  \\\n",
       "0                      jpg        NaN  3519864665   \n",
       "1                      jpg  75.200386  4896119055   \n",
       "2                      jpg        NaN  3468473862   \n",
       "3                      jpg  -8.621177  4120853942   \n",
       "4                      jpg -83.368265  4436083254   \n",
       "\n",
       "                                         license_url date_uploaded  \\\n",
       "0  http://creativecommons.org/licenses/by-nc-nd/2.0/    1242004112   \n",
       "1     http://creativecommons.org/licenses/by-sa/2.0/    1281931224   \n",
       "2        http://creativecommons.org/licenses/by/2.0/    1240493762   \n",
       "3  http://creativecommons.org/licenses/by-nc-nd/2.0/    1258754762   \n",
       "4        http://creativecommons.org/licenses/by/2.0/    1268676971   \n",
       "\n",
       "              date_taken   latitude  \\\n",
       "0  2009-05-10 08:27:33.0        NaN   \n",
       "1  2010-08-14 13:35:10.0  19.939383   \n",
       "2  2009-04-21 18:07:56.0        NaN   \n",
       "3  2009-11-20 15:16:40.0  51.889603   \n",
       "4  2010-03-13 15:14:04.0  33.949149   \n",
       "\n",
       "                                           image_url        user_nickname  \\\n",
       "0  http://www.flickr.com/photos/95156977@N00/3519...  5 Flip-Flops (Earl)   \n",
       "1  http://www.flickr.com/photos/24574470@N00/4896...           sankarshan   \n",
       "2  http://www.flickr.com/photos/73451168@N00/3468...              J Wynia   \n",
       "3  http://www.flickr.com/photos/12947023@N00/4120...             guileite   \n",
       "4  http://www.flickr.com/photos/60704492@N00/4436...              The_Gut   \n",
       "\n",
       "                capture_device    image_id  train_y  \n",
       "0   Canon EOS DIGITAL REBEL XT  3519864665        0  \n",
       "1  NIKON CORPORATION NIKON D90  4896119055        0  \n",
       "2            Panasonic DMC-TZ5  3468473862        0  \n",
       "3     FUJIFILM FinePix S6000fd  4120853942        0  \n",
       "4      Canon PowerShot SX10 IS  4436083254        0  "
      ]
     },
     "execution_count": 5,
     "metadata": {},
     "output_type": "execute_result"
    }
   ],
   "source": [
    "data = pd.concat([df, train_label], axis = 1)\n",
    "data.head()"
   ]
  },
  {
   "cell_type": "code",
   "execution_count": 6,
   "id": "66901e94-1e78-4830-b8ef-cd0a637455bc",
   "metadata": {
    "tags": []
   },
   "outputs": [],
   "source": [
    "def preprocess_user_tags(tags):\n",
    "    if isinstance(tags, list):\n",
    "        return ' '.join(tags)\n",
    "    elif pd.isnull(tags):\n",
    "        return '[NULL]'\n",
    "    else:\n",
    "        return tags\n",
    "\n",
    "data['user_tags'] = data['user_tags'].apply(preprocess_user_tags)"
   ]
  },
  {
   "cell_type": "code",
   "execution_count": 7,
   "id": "30d09ee2-61f2-4b43-98e0-1a3c2d602f6c",
   "metadata": {
    "tags": []
   },
   "outputs": [
    {
     "data": {
      "text/plain": [
       "0       2009 road trip obrero road trip | Biltmore Estate\n",
       "1       daulatabad daulatabad fort ellora road trip | ...\n",
       "2       After the flood, the boarded up stores bear up...\n",
       "3          cork enchente flood ireland irlanda | DSCF6487\n",
       "4       athens georgia brown current flood mud river s...\n",
       "                              ...                        \n",
       "5275    550d camino canon canoneos550d canoneoskissx4 ...\n",
       "5276    albany, ny flood walk water | Albany's Corning...\n",
       "5277                al the waters in pike road | IMG_4989\n",
       "5278    2013 Fair Flood | 2013 county fair flood linn ...\n",
       "5279    Alcatraz trip, San Francisco |  | Prison building\n",
       "Name: text, Length: 5280, dtype: object"
      ]
     },
     "execution_count": 7,
     "metadata": {},
     "output_type": "execute_result"
    }
   ],
   "source": [
    "data['text'] = data[['description', 'user_tags','title']].apply(lambda x: ' | '.join(x.dropna()), axis=1)\n",
    "data['text']"
   ]
  },
  {
   "cell_type": "code",
   "execution_count": 8,
   "id": "a1ac4674-8516-4fa3-9ce8-90e32c788285",
   "metadata": {
    "tags": []
   },
   "outputs": [],
   "source": [
    "texts = data['text'].tolist()\n",
    "labels = data['train_y'].tolist()  # Replace 'label_column_name' with the actual column name"
   ]
  },
  {
   "cell_type": "code",
   "execution_count": 9,
   "id": "c1fc0dfc-8135-4da7-b302-35bbda38e604",
   "metadata": {
    "tags": []
   },
   "outputs": [],
   "source": [
    "train_text, val_text, train_labels, val_labels = train_test_split(texts, labels, test_size=0.2, random_state=42)"
   ]
  },
  {
   "cell_type": "code",
   "execution_count": 10,
   "id": "73963612-699f-4de2-8922-1333bfe3f7bc",
   "metadata": {
    "tags": []
   },
   "outputs": [],
   "source": [
    "from transformers import BertTokenizer, TFBertForSequenceClassification, create_optimizer"
   ]
  },
  {
   "cell_type": "code",
   "execution_count": 11,
   "id": "078eef02-7c4d-4d6c-943a-864c1b935ea1",
   "metadata": {
    "tags": []
   },
   "outputs": [
    {
     "name": "stdout",
     "output_type": "stream",
     "text": [
      "WARNING:tensorflow:From C:\\Users\\minhd\\anaconda3\\Lib\\site-packages\\tf_keras\\src\\backend.py:873: The name tf.get_default_graph is deprecated. Please use tf.compat.v1.get_default_graph instead.\n",
      "\n"
     ]
    },
    {
     "name": "stderr",
     "output_type": "stream",
     "text": [
      "All PyTorch model weights were used when initializing TFBertForSequenceClassification.\n",
      "\n",
      "Some weights or buffers of the TF 2.0 model TFBertForSequenceClassification were not initialized from the PyTorch model and are newly initialized: ['classifier.weight', 'classifier.bias']\n",
      "You should probably TRAIN this model on a down-stream task to be able to use it for predictions and inference.\n"
     ]
    }
   ],
   "source": [
    "   # Adjust num_labels for your classification task\n",
    "model_name = 'bert-base-uncased'\n",
    "tokenizer = BertTokenizer.from_pretrained(model_name)\n",
    "model = TFBertForSequenceClassification.from_pretrained(model_name, num_labels=2)"
   ]
  },
  {
   "cell_type": "code",
   "execution_count": 12,
   "id": "c5763fe3-5e25-4117-b752-7a4050e4c80d",
   "metadata": {
    "tags": []
   },
   "outputs": [],
   "source": [
    "def encode_texts(texts, tokenizer, max_length):\n",
    "    return tokenizer(texts, max_length=max_length, truncation=True, padding='max_length', return_tensors='tf')"
   ]
  },
  {
   "cell_type": "code",
   "execution_count": 13,
   "id": "e374ed25-a5e9-400a-9439-d9994d56948d",
   "metadata": {
    "tags": []
   },
   "outputs": [],
   "source": [
    "encoded_inputs = encode_texts(train_text, tokenizer, max_length=128)\n",
    "dataset = tf.data.Dataset.from_tensor_slices((dict(encoded_inputs), train_labels)).shuffle(len(train_text)).batch(32)\n",
    "val_inputs = encode_texts(val_text, tokenizer, max_length = 128)\n",
    "val_dataset = tf.data.Dataset.from_tensor_slices((dict(val_inputs), val_labels)).batch(32)"
   ]
  },
  {
   "cell_type": "code",
   "execution_count": 14,
   "id": "69244533-5201-445e-8081-63dd80c9e8a3",
   "metadata": {
    "tags": []
   },
   "outputs": [
    {
     "ename": "AttributeError",
     "evalue": "'Variable' object has no attribute '_distribute_strategy'",
     "output_type": "error",
     "traceback": [
      "\u001b[1;31m---------------------------------------------------------------------------\u001b[0m",
      "\u001b[1;31mAttributeError\u001b[0m                            Traceback (most recent call last)",
      "Cell \u001b[1;32mIn[14], line 4\u001b[0m\n\u001b[0;32m      2\u001b[0m loss \u001b[38;5;241m=\u001b[39m SparseCategoricalCrossentropy(from_logits\u001b[38;5;241m=\u001b[39m\u001b[38;5;28;01mTrue\u001b[39;00m)\n\u001b[0;32m      3\u001b[0m metric \u001b[38;5;241m=\u001b[39m SparseCategoricalAccuracy(\u001b[38;5;124m'\u001b[39m\u001b[38;5;124maccuracy\u001b[39m\u001b[38;5;124m'\u001b[39m)\n\u001b[1;32m----> 4\u001b[0m model\u001b[38;5;241m.\u001b[39mcompile(optimizer\u001b[38;5;241m=\u001b[39moptimizer, loss\u001b[38;5;241m=\u001b[39mloss, metrics\u001b[38;5;241m=\u001b[39m[metric])\n",
      "File \u001b[1;32m~\\anaconda3\\Lib\\site-packages\\transformers\\modeling_tf_utils.py:1563\u001b[0m, in \u001b[0;36mTFPreTrainedModel.compile\u001b[1;34m(self, optimizer, loss, metrics, loss_weights, weighted_metrics, run_eagerly, steps_per_execution, **kwargs)\u001b[0m\n\u001b[0;32m   1561\u001b[0m \u001b[38;5;66;03m# This argument got renamed, we need to support both versions\u001b[39;00m\n\u001b[0;32m   1562\u001b[0m \u001b[38;5;28;01mif\u001b[39;00m \u001b[38;5;124m\"\u001b[39m\u001b[38;5;124msteps_per_execution\u001b[39m\u001b[38;5;124m\"\u001b[39m \u001b[38;5;129;01min\u001b[39;00m parent_args:\n\u001b[1;32m-> 1563\u001b[0m     \u001b[38;5;28msuper\u001b[39m()\u001b[38;5;241m.\u001b[39mcompile(\n\u001b[0;32m   1564\u001b[0m         optimizer\u001b[38;5;241m=\u001b[39moptimizer,\n\u001b[0;32m   1565\u001b[0m         loss\u001b[38;5;241m=\u001b[39mloss,\n\u001b[0;32m   1566\u001b[0m         metrics\u001b[38;5;241m=\u001b[39mmetrics,\n\u001b[0;32m   1567\u001b[0m         loss_weights\u001b[38;5;241m=\u001b[39mloss_weights,\n\u001b[0;32m   1568\u001b[0m         weighted_metrics\u001b[38;5;241m=\u001b[39mweighted_metrics,\n\u001b[0;32m   1569\u001b[0m         run_eagerly\u001b[38;5;241m=\u001b[39mrun_eagerly,\n\u001b[0;32m   1570\u001b[0m         steps_per_execution\u001b[38;5;241m=\u001b[39msteps_per_execution,\n\u001b[0;32m   1571\u001b[0m         \u001b[38;5;241m*\u001b[39m\u001b[38;5;241m*\u001b[39mkwargs,\n\u001b[0;32m   1572\u001b[0m     )\n\u001b[0;32m   1573\u001b[0m \u001b[38;5;28;01melse\u001b[39;00m:\n\u001b[0;32m   1574\u001b[0m     \u001b[38;5;28msuper\u001b[39m()\u001b[38;5;241m.\u001b[39mcompile(\n\u001b[0;32m   1575\u001b[0m         optimizer\u001b[38;5;241m=\u001b[39moptimizer,\n\u001b[0;32m   1576\u001b[0m         loss\u001b[38;5;241m=\u001b[39mloss,\n\u001b[1;32m   (...)\u001b[0m\n\u001b[0;32m   1582\u001b[0m         \u001b[38;5;241m*\u001b[39m\u001b[38;5;241m*\u001b[39mkwargs,\n\u001b[0;32m   1583\u001b[0m     )\n",
      "File \u001b[1;32m~\\anaconda3\\Lib\\site-packages\\tf_keras\\src\\utils\\traceback_utils.py:70\u001b[0m, in \u001b[0;36mfilter_traceback.<locals>.error_handler\u001b[1;34m(*args, **kwargs)\u001b[0m\n\u001b[0;32m     67\u001b[0m     filtered_tb \u001b[38;5;241m=\u001b[39m _process_traceback_frames(e\u001b[38;5;241m.\u001b[39m__traceback__)\n\u001b[0;32m     68\u001b[0m     \u001b[38;5;66;03m# To get the full stack trace, call:\u001b[39;00m\n\u001b[0;32m     69\u001b[0m     \u001b[38;5;66;03m# `tf.debugging.disable_traceback_filtering()`\u001b[39;00m\n\u001b[1;32m---> 70\u001b[0m     \u001b[38;5;28;01mraise\u001b[39;00m e\u001b[38;5;241m.\u001b[39mwith_traceback(filtered_tb) \u001b[38;5;28;01mfrom\u001b[39;00m \u001b[38;5;28;01mNone\u001b[39;00m\n\u001b[0;32m     71\u001b[0m \u001b[38;5;28;01mfinally\u001b[39;00m:\n\u001b[0;32m     72\u001b[0m     \u001b[38;5;28;01mdel\u001b[39;00m filtered_tb\n",
      "File \u001b[1;32m~\\anaconda3\\Lib\\site-packages\\tensorflow\\python\\distribute\\distribute_lib.py:4021\u001b[0m, in \u001b[0;36m_DefaultDistributionExtended.variable_created_in_scope\u001b[1;34m(self, v)\u001b[0m\n\u001b[0;32m   4020\u001b[0m \u001b[38;5;28;01mdef\u001b[39;00m \u001b[38;5;21mvariable_created_in_scope\u001b[39m(\u001b[38;5;28mself\u001b[39m, v):\n\u001b[1;32m-> 4021\u001b[0m   \u001b[38;5;28;01mreturn\u001b[39;00m v\u001b[38;5;241m.\u001b[39m_distribute_strategy \u001b[38;5;129;01mis\u001b[39;00m \u001b[38;5;28;01mNone\u001b[39;00m\n",
      "\u001b[1;31mAttributeError\u001b[0m: 'Variable' object has no attribute '_distribute_strategy'"
     ]
    }
   ],
   "source": [
    "optimizer = Adam(learning_rate=2e-5)\n",
    "loss = SparseCategoricalCrossentropy(from_logits=True)\n",
    "metric = SparseCategoricalAccuracy('accuracy')\n",
    "model.compile(optimizer=optimizer, loss=loss, metrics=[metric])"
   ]
  },
  {
   "cell_type": "code",
   "execution_count": null,
   "id": "1151aaa2-5ff0-4b2c-bd56-706b132b7347",
   "metadata": {
    "tags": []
   },
   "outputs": [],
   "source": [
    "early_stopping = tf.keras.callbacks.EarlyStopping(monitor='val_loss', patience=3, restore_best_weights=True)\n",
    "checkpoint = tf.keras.callbacks.ModelCheckpoint('best_model.h5', monitor='val_accuracy', save_best_only=True)"
   ]
  },
  {
   "cell_type": "code",
   "execution_count": null,
   "id": "5c05b731-37d6-410f-994a-b0965302b23a",
   "metadata": {
    "tags": []
   },
   "outputs": [],
   "source": [
    "history = model.fit(dataset, epochs= 10, validation_data= val_dataset)  # Adjust epochs as necessary"
   ]
  },
  {
   "cell_type": "code",
   "execution_count": null,
   "id": "66cb294d-d97e-4d22-87b1-1c3ad63b2693",
   "metadata": {
    "tags": []
   },
   "outputs": [],
   "source": [
    "# Evaluate the model\n",
    "loss, accuracy = model.evaluate(val_dataset)\n",
    "print(f\"Loss: {loss}, Accuracy: {accuracy}\")"
   ]
  },
  {
   "cell_type": "code",
   "execution_count": null,
   "id": "46e9ccb1-1640-417f-9e3d-ada6381c22dc",
   "metadata": {
    "tags": []
   },
   "outputs": [],
   "source": [
    "test_df = pd.read_csv('test.csv')\n",
    "test_df"
   ]
  },
  {
   "cell_type": "code",
   "execution_count": null,
   "id": "ea35b370-66bc-4b86-b699-2b25312cfff3",
   "metadata": {
    "tags": []
   },
   "outputs": [],
   "source": [
    "# Predict on new data\n",
    "import pandas as pd\n",
    "import tensorflow as tf\n",
    "\n",
    "# Load the test data\n",
    "test_df = pd.read_csv('test.csv')\n",
    "\n",
    "# Preprocess the data (handle NaN values, encode text data, etc.)\n",
    "# For example, fill NaN values with a placeholder '[NULL]'\n",
    "test_df['text'] = test_df[['description', 'user_tags','title']].apply(lambda x: ' | '.join(x.dropna()), axis=1)\n",
    "\n"
   ]
  },
  {
   "cell_type": "code",
   "execution_count": null,
   "id": "d3e4b366-3a9e-4c76-a5a4-ecdffec034f5",
   "metadata": {
    "scrolled": true,
    "tags": []
   },
   "outputs": [],
   "source": [
    "test_df['text'] = test_df['text'].apply(preprocess_user_tags)\n",
    "test_texts = test_df['text'].to_list()\n",
    "test_texts"
   ]
  },
  {
   "cell_type": "code",
   "execution_count": null,
   "id": "04ee4433-348d-4029-bab5-619c5e68c1c7",
   "metadata": {
    "tags": []
   },
   "outputs": [],
   "source": [
    "encoded_inputs = encode_texts(test_texts, tokenizer, max_length=128)\n",
    "encoded_inputs\n"
   ]
  },
  {
   "cell_type": "code",
   "execution_count": null,
   "id": "d6f4e253-83a7-45c2-bb76-48a3458db4d0",
   "metadata": {
    "tags": []
   },
   "outputs": [],
   "source": [
    "# Get logits\n",
    "predictions = model.predict(dict(encoded_inputs))\n",
    "logits = predictions.logits\n",
    "\n",
    "# For binary classification, convert logits to binary class labels using a threshold\n",
    "predicted_labels = (logits[:, 1] > 0).astype(int)\n",
    "\n",
    "print(predicted_labels)  # Output: array of predicted class indices (0 or 1)"
   ]
  },
  {
   "cell_type": "code",
   "execution_count": null,
   "id": "637072c9-d51e-4e72-9a92-81962fbf8433",
   "metadata": {
    "tags": []
   },
   "outputs": [],
   "source": [
    "submit = pd.DataFrame({'id': test_df['image_id'], 'label': predicted_labels})\n",
    "submit.head()"
   ]
  },
  {
   "cell_type": "code",
   "execution_count": null,
   "id": "0a920a55-0d44-401a-b35e-47e994d32aea",
   "metadata": {
    "tags": []
   },
   "outputs": [],
   "source": [
    "results_csv_path = 'Bret.csv'\n",
    "submit.to_csv(results_csv_path, index=False)"
   ]
  },
  {
   "cell_type": "code",
   "execution_count": null,
   "id": "1774214b-da0a-4608-b964-4aceb13dfc9c",
   "metadata": {},
   "outputs": [],
   "source": []
  }
 ],
 "metadata": {
  "kernelspec": {
   "display_name": "Python 3 (ipykernel)",
   "language": "python",
   "name": "python3"
  },
  "language_info": {
   "codemirror_mode": {
    "name": "ipython",
    "version": 3
   },
   "file_extension": ".py",
   "mimetype": "text/x-python",
   "name": "python",
   "nbconvert_exporter": "python",
   "pygments_lexer": "ipython3",
   "version": "3.10.13"
  }
 },
 "nbformat": 4,
 "nbformat_minor": 5
}
